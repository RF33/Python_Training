{
 "cells": [
  {
   "cell_type": "code",
   "execution_count": null,
   "metadata": {
    "id": "jfOPPEyHpTWo"
   },
   "outputs": [],
   "source": [
    "import pandas as pd\n",
    "import numpy as np\n",
    "import matplotlib.pyplot as plt\n",
    "\n",
    "import re"
   ]
  },
  {
   "cell_type": "code",
   "execution_count": null,
   "metadata": {
    "id": "nplEFAuepTWq"
   },
   "outputs": [],
   "source": [
    "#Read in the data and look at it.\n",
    "from sklearn import datasets\n",
    "from sklearn.datasets import fetch_openml\n",
    "\n",
    "df_train, df_test = fetch_openml(\"titanic\", version = 1,\n",
    "                                           as_frame=True, return_X_y=True) # loads titanic dataset"
   ]
  },
  {
   "cell_type": "code",
   "execution_count": null,
   "metadata": {
    "colab": {
     "base_uri": "https://localhost:8080/",
     "height": 423
    },
    "id": "zp0h-3PepTWq",
    "outputId": "b8798b14-ee12-43ab-df70-3240878a243f"
   },
   "outputs": [],
   "source": [
    "#We need to do some data processing on this data.\n",
    "#Our analysis will require numeric values, not strings.\n",
    "#We also need to clean the data for the NaN / null values.\n",
    "#Much of the following code borrows from towardsdatascience.com.\n",
    "\n",
    "#Impute Ages and Embarked status.\n",
    "df_train[\"age\"] = df_train[\"age\"].fillna(df_train[\"age\"].median())\n",
    "df_train[\"embarked\"] = df_train[\"embarked\"].fillna(\"S\")\n",
    "\n",
    "data = [df_train]\n",
    "\n",
    "for dataset in data:\n",
    "    dataset['relatives'] = dataset['sibsp'] + dataset['parch']\n",
    "    dataset.loc[dataset['relatives'] > 0, 'not_alone'] = 0\n",
    "    dataset.loc[dataset['relatives'] == 0, 'not_alone'] = 1\n",
    "    dataset['not_alone'] = dataset['not_alone'].astype(int)\n",
    "\n",
    "#The following takes care of the cabin column by leading letter.\n",
    "deck = {\"A\": 1, \"B\": 2, \"C\": 3, \"D\": 4, \"E\": 5, \"F\": 6, \"G\": 7, \"U\": 8}\n",
    "\n",
    "data = [df_train]\n",
    "for dataset in data:\n",
    "    dataset['cabin'] = dataset['cabin'].fillna(\"U0\")\n",
    "    dataset['deck'] = dataset['cabin'].map(lambda x: re.compile(\"([a-zA-Z]+)\").search(x).group())\n",
    "    dataset['deck'] = dataset['deck'].map(deck)\n",
    "    dataset['deck'] = dataset['deck'].fillna(0)\n",
    "    dataset['deck'] = dataset['deck'].astype(int)\n",
    "\n",
    "#Let's hack and impute the ages next.\n",
    "data = [df_train]\n",
    "for dataset in data:\n",
    "    mean = df_train[\"age\"].mean()\n",
    "    std = df_train[\"age\"].std()\n",
    "    is_null = dataset[\"age\"].isnull().sum()\n",
    "    # compute random numbers between the mean, std and is_null\n",
    "    rand_age = np.random.randint(mean - std, mean + std, size = is_null)\n",
    "    # fill NaN values in Age column with random values generated\n",
    "    age_slice = dataset[\"age\"].copy()\n",
    "    age_slice[np.isnan(age_slice)] = rand_age\n",
    "    dataset[\"age\"] = age_slice\n",
    "    dataset[\"age\"] = df_train[\"age\"].astype(int)\n",
    "df_train[\"age\"].isnull().sum()\n",
    "\n",
    "#Convert Fares to INT.\n",
    "data = [df_train]\n",
    "for dataset in data:\n",
    "    dataset['fare'] = dataset['fare'].fillna(0)\n",
    "    dataset['fare'] = dataset['fare'].astype(int)\n",
    "\n",
    "#Deal with sex column.\n",
    "genders = {\"male\": 0, \"female\": 1}\n",
    "data = [df_train]\n",
    "for dataset in data:\n",
    "    dataset['sex'] = dataset['sex'].map(genders)\n",
    "\n",
    "\n",
    "\n",
    "#Grab the titles of the passengers.\n",
    "data = [df_train]\n",
    "titles = {\"Mr\": 1, \"Miss\": 2, \"Mrs\": 3, \"Master\": 4, \"Rare\": 5}\n",
    "\n",
    "for dataset in data:\n",
    "    # extract titles\n",
    "    dataset['title'] = dataset.name.str.extract(' ([A-Za-z]+)\\.', expand=False)\n",
    "    # replace titles with a more common title or as Rare\n",
    "    dataset['title'] = dataset['title'].replace(['Lady', 'Countess','Capt', 'Col','Don', 'Dr',\\\n",
    "                                            'Major', 'Rev', 'Sir', 'Jonkheer', 'Dona'], 'Rare')\n",
    "    dataset['title'] = dataset['title'].replace('Mlle', 'Miss')\n",
    "    dataset['title'] = dataset['title'].replace('Ms', 'Miss')\n",
    "    dataset['title'] = dataset['title'].replace('Mme', 'Mrs')\n",
    "    # convert titles into numbers\n",
    "    dataset['title'] = dataset['title'].map(titles)\n",
    "    # filling NaN with 0, to get safe\n",
    "    dataset['title'] = dataset['title'].fillna(0)\n",
    "df_train = df_train.drop(['name'], axis=1)\n",
    "\n",
    "#Convert the Embarked column to numbers.\n",
    "data = [df_train]\n",
    "ports = {\"S\": 0, \"C\": 1, \"Q\": 2}\n",
    "for dataset in data:\n",
    "    dataset['embarked'] = dataset['embarked'].map(ports)\n",
    "\n",
    "\n",
    "#Drop the original cabin column\n",
    "df_train = df_train.drop(['cabin'], axis=1)\n",
    "\n",
    "\n",
    "\n",
    "\n",
    "#Ticket has too many types to be of use. Drop it too.\n",
    "df_train = df_train.drop(['ticket'], axis=1)\n",
    "\n",
    "\n",
    "#I think we're done. Let's eyeball it.\n",
    "df_train\n"
   ]
  },
  {
   "cell_type": "code",
   "execution_count": null,
   "metadata": {
    "colab": {
     "base_uri": "https://localhost:8080/",
     "height": 423
    },
    "id": "j-nqgdITpTWs",
    "outputId": "71c02cf1-0562-4d97-c927-e43e3f63cef3"
   },
   "outputs": [],
   "source": [
    "#Here we will bin up both AGE and FARE in to some categories\n",
    "#just like the rest of the data.\n",
    "\n",
    "data = [df_train]\n",
    "\n",
    "for dataset in data:\n",
    "    dataset['age'] = dataset['age'].astype(int)\n",
    "    dataset.loc[ dataset['age'] <= 11, 'age'] = 0\n",
    "    dataset.loc[(dataset['age'] > 11) & (dataset['age'] <= 18), 'age'] = 1\n",
    "    dataset.loc[(dataset['age'] > 18) & (dataset['age'] <= 22), 'age'] = 2\n",
    "    dataset.loc[(dataset['age'] > 22) & (dataset['age'] <= 27), 'age'] = 3\n",
    "    dataset.loc[(dataset['age'] > 27) & (dataset['age'] <= 33), 'age'] = 4\n",
    "    dataset.loc[(dataset['age'] > 33) & (dataset['age'] <= 40), 'age'] = 5\n",
    "    dataset.loc[(dataset['age'] > 40) & (dataset['age'] <= 66), 'age'] = 6\n",
    "    dataset.loc[ dataset['age'] > 66, 'age'] = 6\n",
    "\n",
    "for dataset in data:\n",
    "    dataset.loc[ dataset['fare'] <= 7.91, 'fare'] = 0\n",
    "    dataset.loc[(dataset['fare'] > 7.91) & (dataset['fare'] <= 14.454), 'fare'] = 1\n",
    "    dataset.loc[(dataset['fare'] > 14.454) & (dataset['fare'] <= 31), 'fare']   = 2\n",
    "    dataset.loc[(dataset['fare'] > 31) & (dataset['fare'] <= 99), 'fare']   = 3\n",
    "    dataset.loc[(dataset['fare'] > 99) & (dataset['fare'] <= 250), 'fare']   = 4\n",
    "    dataset.loc[ dataset['fare'] > 250, 'fare'] = 5\n",
    "    dataset['fare'] = dataset['fare'].astype(int)\n",
    "\n",
    "#Let's eyeball it.\n",
    "df_train"
   ]
  },
  {
   "cell_type": "code",
   "execution_count": null,
   "metadata": {
    "id": "LBB0ihpnpTWs"
   },
   "outputs": [],
   "source": []
  },
  {
   "cell_type": "code",
   "execution_count": null,
   "metadata": {
    "id": "LL4nCimepTWt"
   },
   "outputs": [],
   "source": []
  },
  {
   "cell_type": "code",
   "execution_count": null,
   "metadata": {
    "id": "YMNVjemhpTWt"
   },
   "outputs": [],
   "source": []
  },
  {
   "cell_type": "code",
   "execution_count": null,
   "metadata": {
    "id": "8aG5tj7XpTWt"
   },
   "outputs": [],
   "source": []
  },
  {
   "cell_type": "code",
   "execution_count": null,
   "metadata": {
    "id": "kfBM_EDWpTWu"
   },
   "outputs": [],
   "source": []
  }
 ],
 "metadata": {
  "colab": {
   "provenance": []
  },
  "kernelspec": {
   "display_name": "Python 3",
   "language": "python",
   "name": "python3"
  },
  "language_info": {
   "codemirror_mode": {
    "name": "ipython",
    "version": 3
   },
   "file_extension": ".py",
   "mimetype": "text/x-python",
   "name": "python",
   "nbconvert_exporter": "python",
   "pygments_lexer": "ipython3",
   "version": "3.7.9"
  }
 },
 "nbformat": 4,
 "nbformat_minor": 1
}
