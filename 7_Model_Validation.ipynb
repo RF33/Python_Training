{
 "cells": [
  {
   "cell_type": "code",
   "execution_count": null,
   "metadata": {
    "id": "Nh9u8fxr7fYy"
   },
   "outputs": [],
   "source": [
    "# 12 Model Validation\n",
    "\n",
    "import matplotlib.pyplot as plt\n",
    "import numpy\n",
    "from sklearn import metrics"
   ]
  },
  {
   "cell_type": "code",
   "execution_count": null,
   "metadata": {
    "id": "anbuFQ8R7idE"
   },
   "outputs": [],
   "source": [
    "#12.1 Confusion Matrix\n",
    "\n",
    "sklearn.metrics.confusion_matrix(y_true,y_score)."
   ]
  },
  {
   "cell_type": "code",
   "execution_count": null,
   "metadata": {},
   "outputs": [],
   "source": [
    "import matplotlib.pyplot as plt\n",
    "import numpy\n",
    "from sklearn import metrics\n",
    "\n",
    "actual = numpy.random.binomial(1,.9,size = 1000)\n",
    "predicted = numpy.random.binomial(1,.9,size = 1000)\n",
    "\n",
    "confusion_matrix = metrics.confusion_matrix(actual, predicted)\n",
    "\n",
    "cm_display = metrics.ConfusionMatrixDisplay(confusion_matrix = confusion_matrix, display_labels = [False, True])"
   ]
  },
  {
   "cell_type": "code",
   "execution_count": null,
   "metadata": {
    "id": "DJ5Uyr9U7pyl"
   },
   "outputs": [],
   "source": [
    "#12.2 Accuracy Metric\n",
    "\n",
    "sklearn.metrics.accuracy_score(y_true,y_score)"
   ]
  },
  {
   "cell_type": "code",
   "execution_count": null,
   "metadata": {
    "id": "gxGqPhyK7n3Y"
   },
   "outputs": [],
   "source": [
    "#12.3 Recall Metric\n",
    "\n",
    "sklearn.metrics.recall_score(y_true,y_score)"
   ]
  },
  {
   "cell_type": "code",
   "execution_count": null,
   "metadata": {
    "id": "eT50XBlI7_Pg"
   },
   "outputs": [],
   "source": [
    "#12.4 Precision Metric\n",
    "\n",
    "sklearn.metrics.precision_score(y_true,y_score)"
   ]
  },
  {
   "cell_type": "code",
   "execution_count": null,
   "metadata": {
    "id": "q45JB9Gb8HzN"
   },
   "outputs": [],
   "source": [
    "#12.5 F1 score\n",
    "\n",
    "sklearn.metrics.f1_score(y_true,y_score)"
   ]
  },
  {
   "cell_type": "code",
   "execution_count": null,
   "metadata": {
    "id": "5Y4mTbJi8SDf"
   },
   "outputs": [],
   "source": [
    "#12.6 AUC - ROC\n",
    "\n",
    "sklearn.metrics.roc_auc_score(y_true,y_score)\n"
   ]
  },
  {
   "cell_type": "code",
   "execution_count": null,
   "metadata": {
    "id": "ObRFbUOX8cxd"
   },
   "outputs": [],
   "source": [
    "#12.7 MAE\n",
    "\n",
    "sklearn.metrics.mean_absolute_error(y_test,y_pred)\n"
   ]
  },
  {
   "cell_type": "code",
   "execution_count": null,
   "metadata": {
    "id": "z23IB16g8ofp"
   },
   "outputs": [],
   "source": [
    "#12.8 MSE and RMSE\n",
    "sklearn.metrics.mean_squared_error(y_test,y_pred)"
   ]
  },
  {
   "cell_type": "code",
   "execution_count": null,
   "metadata": {
    "id": "zX608T978xGv"
   },
   "outputs": [],
   "source": []
  }
 ],
 "metadata": {
  "colab": {
   "provenance": []
  },
  "kernelspec": {
   "display_name": "Python 3",
   "language": "python",
   "name": "python3"
  },
  "language_info": {
   "codemirror_mode": {
    "name": "ipython",
    "version": 3
   },
   "file_extension": ".py",
   "mimetype": "text/x-python",
   "name": "python",
   "nbconvert_exporter": "python",
   "pygments_lexer": "ipython3",
   "version": "3.7.9"
  }
 },
 "nbformat": 4,
 "nbformat_minor": 1
}
